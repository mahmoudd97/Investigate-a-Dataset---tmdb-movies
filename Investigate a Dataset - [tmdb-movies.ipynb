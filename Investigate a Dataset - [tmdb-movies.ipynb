{
 "cells": [
  {
   "cell_type": "markdown",
   "id": "cae9b7f8",
   "metadata": {},
   "source": [
    "> **Tip**: Welcome to the Investigate a Dataset project! You will find tips in quoted sections like this to help organize your approach to your investigation. Once you complete this project, remove these **Tip** sections from your report before submission. First things first, you might want to double-click this Markdown cell and change the title so that it reflects your dataset and investigation.\n",
    "\n",
    "# Project: Investigate a Dataset - [tmdb-movies]\n",
    "\n",
    "## Table of Contents\n",
    "<ul>\n",
    "<li><a href=\"#intro\">Introduction</a></li>\n",
    "<li><a href=\"#wrangling\">Data Wrangling</a></li>\n",
    "<li><a href=\"#eda\">Exploratory Data Analysis</a></li>\n",
    "<li><a href=\"#conclusions\">Conclusions</a></li>\n",
    "</ul>"
   ]
  },
  {
   "cell_type": "markdown",
   "id": "4c7668d3",
   "metadata": {},
   "source": [
    "<a id='intro'></a>\n",
    "## Introduction\n",
    "\n",
    "### Dataset Description \n",
    "\n",
    "We have a data set containing 10,000 films. We will do some analyzes to answer some questions\n",
    "### Question(s) for Analysis\n",
    " 1-How many films have a rating greater than or equal to 7 and other films that have a rating less than 7, and has there been an impact on the budget of these films, the time they are shown, or the genre of these films\n",
    " \n",
    " \n",
    " 2- Which is better, old or new movies?\n",
    "> **Tip**: Once you start coding, use NumPy arrays, Pandas Series, and DataFrames where appropriate rather than Python lists and dictionaries. Also, **use good coding practices**, such as, define and use functions to avoid repetitive code. Use appropriate comments within the code cells, explanation in the mark-down cells, and meaningful variable names. "
   ]
  },
  {
   "cell_type": "code",
   "execution_count": null,
   "id": "5cd11773",
   "metadata": {},
   "outputs": [],
   "source": [
    "#import statements for all of the packages that you\n",
    "#   plan to use.\n",
    "import pandas as pd\n",
    "import numpy as np\n",
    "import matplotlib.pyplot as plt\n",
    "import seaborn as sns\n",
    "%matplotlib inline\n",
    "movie=pd.read_csv('tmdb-movies.csv')"
   ]
  },
  {
   "cell_type": "markdown",
   "id": "0c26bc7e",
   "metadata": {},
   "source": [
    "<a id='wrangling'></a>\n",
    "## Data Wrangling\n",
    "\n",
    "> **Tip**: In this section of the report, you will load in the data, check for cleanliness, and then trim and clean your dataset for analysis. Make sure that you **document your data cleaning steps in mark-down cells precisely and justify your cleaning decisions.**\n",
    "\n",
    "\n",
    "### General Properties\n",
    "> **Tip**: You should _not_ perform too many operations in each cell. Create cells freely to explore your data. One option that you can take with this project is to do a lot of explorations in an initial notebook. These don't have to be organized, but make sure you use enough comments to understand the purpose of each code cell. Then, after you're done with your analysis, create a duplicate notebook where you will trim the excess and organize your steps so that you have a flowing, cohesive report."
   ]
  },
  {
   "cell_type": "code",
   "execution_count": null,
   "id": "61e79bd1",
   "metadata": {
    "scrolled": false
   },
   "outputs": [],
   "source": [
    "movie.head(1)"
   ]
  },
  {
   "cell_type": "code",
   "execution_count": null,
   "id": "d47e50d8",
   "metadata": {},
   "outputs": [],
   "source": [
    "movie.shape"
   ]
  },
  {
   "cell_type": "code",
   "execution_count": null,
   "id": "c71f43ca",
   "metadata": {},
   "outputs": [],
   "source": [
    "movie.describe()"
   ]
  },
  {
   "cell_type": "markdown",
   "id": "9293b409",
   "metadata": {},
   "source": [
    "\n",
    "### Data Cleaning\n",
    "> **Tip**: Make sure that you keep your reader informed on the steps that you are taking in your investigation. Follow every code cell, or every set of related code cells, with a markdown cell to describe to the reader what was found in the preceding cell(s). Try to make it so that the reader can then understand what they will be seeing in the following cell(s).\n",
    " "
   ]
  },
  {
   "cell_type": "code",
   "execution_count": null,
   "id": "ef152be9",
   "metadata": {},
   "outputs": [],
   "source": [
    "#Detecting duplicates\n",
    "\n",
    "movie.duplicated().sum()"
   ]
  },
  {
   "cell_type": "code",
   "execution_count": null,
   "id": "6e9dc598",
   "metadata": {},
   "outputs": [],
   "source": [
    "#delete duplicates\n",
    "\n",
    "movie.drop_duplicates(inplace=True)\n"
   ]
  },
  {
   "cell_type": "code",
   "execution_count": null,
   "id": "4105d15b",
   "metadata": {},
   "outputs": [],
   "source": [
    "#Delete some columns that will not help\n",
    "movie.drop(['homepage','tagline','keywords','release_date','production_companies','budget_adj','revenue_adj'],\n",
    "           axis=1, inplace=True)\n",
    "\n",
    "movie.head(1)"
   ]
  },
  {
   "cell_type": "code",
   "execution_count": null,
   "id": "e7619308",
   "metadata": {
    "scrolled": true
   },
   "outputs": [],
   "source": [
    "#Delete outliers\n",
    "\n",
    "error_runtime=movie.query('runtime==0.000000')\n",
    "error_revenue=movie.query('revenue==0.000000')\n",
    "error_budget=movie.query('budget==0.000000')\n",
    "ru=list(error_runtime.index)\n",
    "re=list(error_revenue.index)\n",
    "bu=list(error_budget.index)\n",
    "movie.drop(index=ru,axis=1,inplace=True)\n",
    "movie.drop(index=re,axis=1,inplace=True)\n",
    "movie.drop(index=bu,axis=1,inplace=True)\n"
   ]
  },
  {
   "cell_type": "code",
   "execution_count": null,
   "id": "ad2f9919",
   "metadata": {},
   "outputs": [],
   "source": [
    "movie.describe()"
   ]
  },
  {
   "cell_type": "code",
   "execution_count": null,
   "id": "bf03c5e7",
   "metadata": {},
   "outputs": [],
   "source": [
    "#Fill in the missing values\n",
    "mean = movie['vote_average'].mean()\n",
    "movie['vote_average'] = movie['vote_average'].fillna(mean)\n",
    "mean = movie['vote_average'].mean()\n",
    "movie['vote_average'].fillna(mean, inplace = True)\n",
    "mean = movie['budget'].mean()\n",
    "movie['budget'] = movie['budget'].fillna(mean)\n",
    "mean = movie['budget'].mean()\n",
    "movie['budget'].fillna(mean, inplace = True)\n",
    "mean = movie['revenue'].mean()\n",
    "movie['revenue'] = movie['revenue'].fillna(mean)\n",
    "mean = movie['revenue'].mean()\n",
    "movie['revenue'].fillna(mean, inplace = True)"
   ]
  },
  {
   "cell_type": "code",
   "execution_count": null,
   "id": "bad4d620",
   "metadata": {},
   "outputs": [],
   "source": [
    "movie.describe()"
   ]
  },
  {
   "cell_type": "markdown",
   "id": "3eaf0e79",
   "metadata": {},
   "source": [
    "# Data cleaning phase summary\n",
    "* Delete duplicate rows\n",
    "* Deleting some columns that are useless in answering our questions\n",
    "* Deleting anomalies from the columns (running period, income)\n",
    "* Fill in the missing data in the columns (budget, income, average vote)"
   ]
  },
  {
   "cell_type": "code",
   "execution_count": null,
   "id": "ab06040d",
   "metadata": {},
   "outputs": [],
   "source": [
    "movie.info()"
   ]
  },
  {
   "cell_type": "markdown",
   "id": "88f2724e",
   "metadata": {},
   "source": [
    "## Exploratory Data Analysis\n",
    "\n",
    "> **Tip**: Now that you've trimmed and cleaned your data, you're ready to move on to exploration. **Compute statistics** and **create visualizations** with the goal of addressing the research questions that you posed in the Introduction section. You should compute the relevant statistics throughout the analysis when an inference is made about the data. Note that at least two or more kinds of plots should be created as part of the exploration, and you must  compare and show trends in the varied visualizations. \n",
    "\n",
    "\n",
    "\n",
    "> **Tip**: - Investigate the stated question(s) from multiple angles. It is recommended that you be systematic with your approach. Look at one variable at a time, and then follow it up by looking at relationships between variables. You should explore at least three variables in relation to the primary question. This can be an exploratory relationship between three variables of interest, or looking at how two independent variables relate to a single dependent variable of interest. Lastly, you  should perform both single-variable (1d) and multiple-variable (2d) explorations.\n"
   ]
  },
  {
   "cell_type": "code",
   "execution_count": null,
   "id": "3e1db011",
   "metadata": {},
   "outputs": [],
   "source": [
    "#data review\n",
    "movie.hist();"
   ]
  },
  {
   "cell_type": "code",
   "execution_count": null,
   "id": "5e21d1cd",
   "metadata": {
    "scrolled": false
   },
   "outputs": [],
   "source": [
    "#Data for films with a rating greater than or equal to 7\n",
    "high_score=movie.vote_average>=7\n",
    "#Data for films with a rating less than or equal to 7\n",
    "low_score=movie.vote_average<7\n",
    "#Create a new column\n",
    "new_col=movie['score']=movie.vote_average>=7"
   ]
  },
  {
   "cell_type": "markdown",
   "id": "16c23983",
   "metadata": {},
   "source": [
    "# How many films have a rating greater than or equal to 7 and other films that have a rating less than 7, and has there been an impact on the budget of these films, the time they are shown, or the genre of these films\n"
   ]
  },
  {
   "cell_type": "markdown",
   "id": "36568bd6",
   "metadata": {},
   "source": [
    "Percentage of films with a score of seven or more for films with a rating of less than seven\n"
   ]
  },
  {
   "cell_type": "code",
   "execution_count": null,
   "id": "1edd3152",
   "metadata": {
    "scrolled": false
   },
   "outputs": [],
   "source": [
    "#Comparison of the number of films that got more than 7 and less than 7.\n",
    "def Percentage_of_films(movie,col_name):\n",
    "    \n",
    "    colors=['red','green']\n",
    "    plt.figure(figsize=[12,8])\n",
    "    movie.groupby(col_name)['vote_average'].count().plot(kind='pie')\n",
    "    plt.legend();\n",
    "    plt.title('comparison between number movies to')\n",
    "    plt.xlabel('movie')\n",
    "    plt.ylabel('movie number')\n",
    "    movie.groupby('score')['vote_average'].count()\n",
    "Percentage_of_films(movie,'score')"
   ]
  },
  {
   "cell_type": "markdown",
   "id": "e5db48f2",
   "metadata": {},
   "source": [
    "*It turns out that the number of films with a rating of 7 or more is much less than films with a rating of less than 7.\n"
   ]
  },
  {
   "cell_type": "markdown",
   "id": "65e040cd",
   "metadata": {},
   "source": [
    "# The effect of the average budget of films on obtaining a high rating\n"
   ]
  },
  {
   "cell_type": "code",
   "execution_count": null,
   "id": "fb400392",
   "metadata": {},
   "outputs": [],
   "source": [
    "#Comparison between the budget of the films and the degree you got in the vote\n",
    "movie.groupby('score')['budget'].mean()"
   ]
  },
  {
   "cell_type": "code",
   "execution_count": null,
   "id": "b6aa9c09",
   "metadata": {},
   "outputs": [],
   "source": [
    "def Percentage_of_films(movie,col_name):\n",
    "    \n",
    "    colors=['gray','green']\n",
    "    plt.figure(figsize=[18,6])\n",
    "    movie.groupby('score')['budget'].mean().plot(kind='bar',title=\"The effect of a film's average budget on obtaining a higher rating\",color=colors,alpha=.7)\n",
    "Percentage_of_films(movie,'score')    "
   ]
  },
  {
   "cell_type": "markdown",
   "id": "cfdd75b6",
   "metadata": {},
   "source": [
    "*Movies with a bigger budget have a higher average rating\n"
   ]
  },
  {
   "cell_type": "markdown",
   "id": "5ad298a4",
   "metadata": {},
   "source": [
    "# The relationship of the average playing time of movies and their obtaining a high rating\n"
   ]
  },
  {
   "cell_type": "code",
   "execution_count": null,
   "id": "56b6382e",
   "metadata": {
    "scrolled": false
   },
   "outputs": [],
   "source": [
    "#Comparison between the duration of the films and the degree to which they got in the vote\n",
    "plt.figure(figsize=[18,6])\n",
    "movie.groupby('score')['runtime'].mean().plot(kind='bar',title=\"Relationship to the duration of the film's presentation and obtaining a higher rating \" ,color=['red','blue'],alpha=.5)\n",
    "movie.groupby('score')['runtime'].mean()"
   ]
  },
  {
   "cell_type": "markdown",
   "id": "ee5b4f22",
   "metadata": {},
   "source": [
    "*The movies with the longest running time got the highest rating\n"
   ]
  },
  {
   "cell_type": "code",
   "execution_count": null,
   "id": "6a82b72c",
   "metadata": {},
   "outputs": [],
   "source": [
    "# Most movie genre with a rating equal to 7 or more\n",
    "movie[high_score]['genres'].mode()"
   ]
  },
  {
   "cell_type": "code",
   "execution_count": null,
   "id": "71d31d05",
   "metadata": {},
   "outputs": [],
   "source": [
    "# Most movie genre with a rating of less than seven\n",
    "movie[low_score]['genres'].mode()"
   ]
  },
  {
   "cell_type": "markdown",
   "id": "97dd94ed",
   "metadata": {},
   "source": [
    "# Which is better, old or new movies?(old films before 1990)"
   ]
  },
  {
   "cell_type": "markdown",
   "id": "a7942c44",
   "metadata": {},
   "source": [
    "Which films have the highest average rating, old or modern films "
   ]
  },
  {
   "cell_type": "code",
   "execution_count": null,
   "id": "d0ae1339",
   "metadata": {},
   "outputs": [],
   "source": [
    "#Do newer movies get a higher rating or the old ones?\n",
    "plt.figure(figsize=[18,6])\n",
    "movie.groupby('release_year')['vote_average'].mean().plot(kind='bar')\n",
    "\n",
    "plt.title('comparison vote_average. to release_year')\n",
    "plt.xlabel('release_year')\n",
    "plt.ylabel('vote_averge')"
   ]
  },
  {
   "cell_type": "markdown",
   "id": "cd3ceb57",
   "metadata": {},
   "source": [
    "*It is clear from this data that the old films got a relatively higher rating\n"
   ]
  },
  {
   "cell_type": "markdown",
   "id": "1d0055f5",
   "metadata": {},
   "source": [
    "# Do movies with high ratings necessarily get high popularity?\n"
   ]
  },
  {
   "cell_type": "code",
   "execution_count": null,
   "id": "5c6f1bab",
   "metadata": {},
   "outputs": [],
   "source": [
    "#Do movies with a higher rating necessarily be more popular?\n",
    "plt.figure(figsize=[18,6])\n",
    "movie.groupby('vote_average')['popularity'].mean().plot()\n",
    "\n",
    "plt.title('comparison vote_average. to popularity')\n",
    "plt.xlabel('vote average')\n",
    "plt.ylabel('popularity')"
   ]
  },
  {
   "cell_type": "markdown",
   "id": "b5ba41a5",
   "metadata": {},
   "source": [
    "*Obviously, high-rated movies got more popular\n"
   ]
  },
  {
   "cell_type": "markdown",
   "id": "09248d41",
   "metadata": {},
   "source": [
    "# Where does popularity go for old or new movies?"
   ]
  },
  {
   "cell_type": "code",
   "execution_count": null,
   "id": "4c903a63",
   "metadata": {},
   "outputs": [],
   "source": [
    "#Which movies are more popular, new or old?\n",
    "\n",
    "plt.figure(figsize=[18,6])\n",
    "movie.groupby('release_year')['popularity'].mean().plot(kind='bar', title='Where does popularity go for old or new movies?')\n",
    "\n",
    "plt.xlabel('release_year')\n",
    "plt.ylabel('popularity')"
   ]
  },
  {
   "cell_type": "markdown",
   "id": "c3b099be",
   "metadata": {},
   "source": [
    "*It is clear that the audience is very inclined towards modern films\n"
   ]
  },
  {
   "cell_type": "markdown",
   "id": "577e84ec",
   "metadata": {},
   "source": [
    "# ## Conclusions\n",
    "*The films with the highest rating, net worth 7, equal approximately 20%.\n",
    "\n",
    "*There is a slight effect obviously caused by a higher budget, as films with a rating greater than or equal to 7 have a slightly higher average budget than those with lower ratings.\n",
    "\n",
    "*The effect of the duration of the films shown was influential in one way or another, as the films that received a rating higher than or equal to 7 had a greater viewing period than the films with a rating of less than 7.\n",
    "\n",
    "*From our review of the films that received the highest rating, the dramas were among the most rated films with the lowest ratings, with a comedy nature\n",
    "*****************************************************************************************\n",
    "*It turns out that I'm the oldest movies that got a higher rating\n",
    "\n",
    "*The films with the highest ratings were not the same as the most popular, with less films receiving more popularity than some of the films with higher ratings.\n",
    "\n",
    "*Recent movies are getting more and more popular\n",
    "\n",
    "\n",
    "*As for the answer to which films are better, I think that modern films are better, as they got the highest popularity rate compared to old films. I also got a high rating compared to old films, despite the fact that older films got a higher rate of voting\n",
    "\n",
    "\n",
    "\n"
   ]
  },
  {
   "cell_type": "markdown",
   "id": "de8abbe4",
   "metadata": {},
   "source": [
    "# limitations\n",
    "* Lots of missing values\n",
    "* Irrational extremes such as having a budget of zero and running time of movies zero\n"
   ]
  },
  {
   "cell_type": "code",
   "execution_count": null,
   "id": "2283a85a",
   "metadata": {},
   "outputs": [],
   "source": [
    "from subprocess import call\n",
    "call(['python', '-m', 'nbconvert', 'Investigate_a_Dataset.ipynb'])"
   ]
  },
  {
   "cell_type": "code",
   "execution_count": null,
   "id": "226671b5",
   "metadata": {},
   "outputs": [],
   "source": []
  },
  {
   "cell_type": "code",
   "execution_count": null,
   "id": "5ccd19d2",
   "metadata": {},
   "outputs": [],
   "source": []
  },
  {
   "cell_type": "code",
   "execution_count": null,
   "id": "615c8d0b",
   "metadata": {},
   "outputs": [],
   "source": []
  }
 ],
 "metadata": {
  "kernelspec": {
   "display_name": "Python 3 (ipykernel)",
   "language": "python",
   "name": "python3"
  },
  "language_info": {
   "codemirror_mode": {
    "name": "ipython",
    "version": 3
   },
   "file_extension": ".py",
   "mimetype": "text/x-python",
   "name": "python",
   "nbconvert_exporter": "python",
   "pygments_lexer": "ipython3",
   "version": "3.9.7"
  }
 },
 "nbformat": 4,
 "nbformat_minor": 5
}
